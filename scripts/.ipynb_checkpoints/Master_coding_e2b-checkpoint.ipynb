{
 "cells": [
  {
   "cell_type": "code",
   "execution_count": 1,
   "metadata": {
    "executionInfo": {
     "elapsed": 818,
     "status": "ok",
     "timestamp": 1690221961706,
     "user": {
      "displayName": "Chris Soria",
      "userId": "08765891894792148090"
     },
     "user_tz": 420
    },
    "id": "dUXUBtTtCBdj"
   },
   "outputs": [],
   "source": [
    "import openai\n",
    "import pandas as pd\n",
    "import numpy as np\n",
    "import json\n",
    "import os\n",
    "import re\n",
    "import time\n",
    "from langchain.chat_models import ChatOpenAI\n",
    "from langchain.prompts import ChatPromptTemplate\n",
    "from dotenv import load_dotenv, find_dotenv"
   ]
  },
  {
   "cell_type": "code",
   "execution_count": 2,
   "metadata": {
    "colab": {
     "base_uri": "https://localhost:8080/"
    },
    "executionInfo": {
     "elapsed": 1093,
     "status": "ok",
     "timestamp": 1690221962797,
     "user": {
      "displayName": "Chris Soria",
      "userId": "08765891894792148090"
     },
     "user_tz": 420
    },
    "id": "-Zy5e6AbCSOT",
    "outputId": "fd637633-64f9-4269-ddc1-c6a84254c95d"
   },
   "outputs": [
    {
     "name": "stdout",
     "output_type": "stream",
     "text": [
      "/Users/chrissoria/Documents/Research/UCNets_Classification/Hand_Coding_Surveys\n"
     ]
    }
   ],
   "source": [
    "os.chdir('/Users/chrissoria/Documents/Research/UCNets_Classification/Hand_Coding_Surveys')\n",
    "current_directory = os.getcwd()\n",
    "print(current_directory)"
   ]
  },
  {
   "cell_type": "code",
   "execution_count": 3,
   "metadata": {},
   "outputs": [
    {
     "ename": "FileNotFoundError",
     "evalue": "[Errno 2] No such file or directory: 'e2ab_Master.xlsx'",
     "output_type": "error",
     "traceback": [
      "\u001b[0;31m---------------------------------------------------------------------------\u001b[0m",
      "\u001b[0;31mFileNotFoundError\u001b[0m                         Traceback (most recent call last)",
      "\u001b[0;32m/var/folders/89/6bdxzk2j30v5n3wstywbcpg80000gn/T/ipykernel_41014/442176782.py\u001b[0m in \u001b[0;36m<module>\u001b[0;34m\u001b[0m\n\u001b[0;32m----> 1\u001b[0;31m \u001b[0mChris\u001b[0m \u001b[0;34m=\u001b[0m \u001b[0mpd\u001b[0m\u001b[0;34m.\u001b[0m\u001b[0mread_excel\u001b[0m\u001b[0;34m(\u001b[0m\u001b[0;34m\"e2ab_Master.xlsx\"\u001b[0m\u001b[0;34m,\u001b[0m \u001b[0mengine\u001b[0m\u001b[0;34m=\u001b[0m\u001b[0;34m'openpyxl'\u001b[0m\u001b[0;34m,\u001b[0m \u001b[0msheet_name\u001b[0m\u001b[0;34m=\u001b[0m\u001b[0;34m\"CF_CORRECTED_9.14.23\"\u001b[0m\u001b[0;34m)\u001b[0m\u001b[0;34m.\u001b[0m\u001b[0mdrop\u001b[0m\u001b[0;34m(\u001b[0m\u001b[0;34m[\u001b[0m\u001b[0;34m\"Response\"\u001b[0m\u001b[0;34m]\u001b[0m\u001b[0;34m,\u001b[0m \u001b[0maxis\u001b[0m\u001b[0;34m=\u001b[0m\u001b[0;36m1\u001b[0m\u001b[0;34m)\u001b[0m\u001b[0;34m\u001b[0m\u001b[0;34m\u001b[0m\u001b[0m\n\u001b[0m\u001b[1;32m      2\u001b[0m \u001b[0mClaude\u001b[0m \u001b[0;34m=\u001b[0m \u001b[0mpd\u001b[0m\u001b[0;34m.\u001b[0m\u001b[0mread_excel\u001b[0m\u001b[0;34m(\u001b[0m\u001b[0;34m\"e2ab_Master.xlsx\"\u001b[0m\u001b[0;34m,\u001b[0m \u001b[0mengine\u001b[0m\u001b[0;34m=\u001b[0m\u001b[0;34m'openpyxl'\u001b[0m\u001b[0;34m,\u001b[0m \u001b[0msheet_name\u001b[0m\u001b[0;34m=\u001b[0m\u001b[0;34m\"e2b_CF\"\u001b[0m\u001b[0;34m)\u001b[0m\u001b[0;34m.\u001b[0m\u001b[0mdrop\u001b[0m\u001b[0;34m(\u001b[0m\u001b[0;34m[\u001b[0m\u001b[0;34m\"Comments\"\u001b[0m\u001b[0;34m,\u001b[0m \u001b[0;34m\"Response\"\u001b[0m\u001b[0;34m,\u001b[0m\u001b[0;34m\"prim_key\"\u001b[0m\u001b[0;34m,\u001b[0m\u001b[0;34m\"global comments\"\u001b[0m\u001b[0;34m]\u001b[0m\u001b[0;34m,\u001b[0m \u001b[0maxis\u001b[0m\u001b[0;34m=\u001b[0m\u001b[0;36m1\u001b[0m\u001b[0;34m)\u001b[0m\u001b[0;34m\u001b[0m\u001b[0;34m\u001b[0m\u001b[0m\n",
      "\u001b[0;32m~/opt/anaconda3/lib/python3.9/site-packages/pandas/util/_decorators.py\u001b[0m in \u001b[0;36mwrapper\u001b[0;34m(*args, **kwargs)\u001b[0m\n\u001b[1;32m    309\u001b[0m                     \u001b[0mstacklevel\u001b[0m\u001b[0;34m=\u001b[0m\u001b[0mstacklevel\u001b[0m\u001b[0;34m,\u001b[0m\u001b[0;34m\u001b[0m\u001b[0;34m\u001b[0m\u001b[0m\n\u001b[1;32m    310\u001b[0m                 )\n\u001b[0;32m--> 311\u001b[0;31m             \u001b[0;32mreturn\u001b[0m \u001b[0mfunc\u001b[0m\u001b[0;34m(\u001b[0m\u001b[0;34m*\u001b[0m\u001b[0margs\u001b[0m\u001b[0;34m,\u001b[0m \u001b[0;34m**\u001b[0m\u001b[0mkwargs\u001b[0m\u001b[0;34m)\u001b[0m\u001b[0;34m\u001b[0m\u001b[0;34m\u001b[0m\u001b[0m\n\u001b[0m\u001b[1;32m    312\u001b[0m \u001b[0;34m\u001b[0m\u001b[0m\n\u001b[1;32m    313\u001b[0m         \u001b[0;32mreturn\u001b[0m \u001b[0mwrapper\u001b[0m\u001b[0;34m\u001b[0m\u001b[0;34m\u001b[0m\u001b[0m\n",
      "\u001b[0;32m~/opt/anaconda3/lib/python3.9/site-packages/pandas/io/excel/_base.py\u001b[0m in \u001b[0;36mread_excel\u001b[0;34m(io, sheet_name, header, names, index_col, usecols, squeeze, dtype, engine, converters, true_values, false_values, skiprows, nrows, na_values, keep_default_na, na_filter, verbose, parse_dates, date_parser, thousands, comment, skipfooter, convert_float, mangle_dupe_cols, storage_options)\u001b[0m\n\u001b[1;32m    362\u001b[0m     \u001b[0;32mif\u001b[0m \u001b[0;32mnot\u001b[0m \u001b[0misinstance\u001b[0m\u001b[0;34m(\u001b[0m\u001b[0mio\u001b[0m\u001b[0;34m,\u001b[0m \u001b[0mExcelFile\u001b[0m\u001b[0;34m)\u001b[0m\u001b[0;34m:\u001b[0m\u001b[0;34m\u001b[0m\u001b[0;34m\u001b[0m\u001b[0m\n\u001b[1;32m    363\u001b[0m         \u001b[0mshould_close\u001b[0m \u001b[0;34m=\u001b[0m \u001b[0;32mTrue\u001b[0m\u001b[0;34m\u001b[0m\u001b[0;34m\u001b[0m\u001b[0m\n\u001b[0;32m--> 364\u001b[0;31m         \u001b[0mio\u001b[0m \u001b[0;34m=\u001b[0m \u001b[0mExcelFile\u001b[0m\u001b[0;34m(\u001b[0m\u001b[0mio\u001b[0m\u001b[0;34m,\u001b[0m \u001b[0mstorage_options\u001b[0m\u001b[0;34m=\u001b[0m\u001b[0mstorage_options\u001b[0m\u001b[0;34m,\u001b[0m \u001b[0mengine\u001b[0m\u001b[0;34m=\u001b[0m\u001b[0mengine\u001b[0m\u001b[0;34m)\u001b[0m\u001b[0;34m\u001b[0m\u001b[0;34m\u001b[0m\u001b[0m\n\u001b[0m\u001b[1;32m    365\u001b[0m     \u001b[0;32melif\u001b[0m \u001b[0mengine\u001b[0m \u001b[0;32mand\u001b[0m \u001b[0mengine\u001b[0m \u001b[0;34m!=\u001b[0m \u001b[0mio\u001b[0m\u001b[0;34m.\u001b[0m\u001b[0mengine\u001b[0m\u001b[0;34m:\u001b[0m\u001b[0;34m\u001b[0m\u001b[0;34m\u001b[0m\u001b[0m\n\u001b[1;32m    366\u001b[0m         raise ValueError(\n",
      "\u001b[0;32m~/opt/anaconda3/lib/python3.9/site-packages/pandas/io/excel/_base.py\u001b[0m in \u001b[0;36m__init__\u001b[0;34m(self, path_or_buffer, engine, storage_options)\u001b[0m\n\u001b[1;32m   1231\u001b[0m         \u001b[0mself\u001b[0m\u001b[0;34m.\u001b[0m\u001b[0mstorage_options\u001b[0m \u001b[0;34m=\u001b[0m \u001b[0mstorage_options\u001b[0m\u001b[0;34m\u001b[0m\u001b[0;34m\u001b[0m\u001b[0m\n\u001b[1;32m   1232\u001b[0m \u001b[0;34m\u001b[0m\u001b[0m\n\u001b[0;32m-> 1233\u001b[0;31m         \u001b[0mself\u001b[0m\u001b[0;34m.\u001b[0m\u001b[0m_reader\u001b[0m \u001b[0;34m=\u001b[0m \u001b[0mself\u001b[0m\u001b[0;34m.\u001b[0m\u001b[0m_engines\u001b[0m\u001b[0;34m[\u001b[0m\u001b[0mengine\u001b[0m\u001b[0;34m]\u001b[0m\u001b[0;34m(\u001b[0m\u001b[0mself\u001b[0m\u001b[0;34m.\u001b[0m\u001b[0m_io\u001b[0m\u001b[0;34m,\u001b[0m \u001b[0mstorage_options\u001b[0m\u001b[0;34m=\u001b[0m\u001b[0mstorage_options\u001b[0m\u001b[0;34m)\u001b[0m\u001b[0;34m\u001b[0m\u001b[0;34m\u001b[0m\u001b[0m\n\u001b[0m\u001b[1;32m   1234\u001b[0m \u001b[0;34m\u001b[0m\u001b[0m\n\u001b[1;32m   1235\u001b[0m     \u001b[0;32mdef\u001b[0m \u001b[0m__fspath__\u001b[0m\u001b[0;34m(\u001b[0m\u001b[0mself\u001b[0m\u001b[0;34m)\u001b[0m\u001b[0;34m:\u001b[0m\u001b[0;34m\u001b[0m\u001b[0;34m\u001b[0m\u001b[0m\n",
      "\u001b[0;32m~/opt/anaconda3/lib/python3.9/site-packages/pandas/io/excel/_openpyxl.py\u001b[0m in \u001b[0;36m__init__\u001b[0;34m(self, filepath_or_buffer, storage_options)\u001b[0m\n\u001b[1;32m    520\u001b[0m         \"\"\"\n\u001b[1;32m    521\u001b[0m         \u001b[0mimport_optional_dependency\u001b[0m\u001b[0;34m(\u001b[0m\u001b[0;34m\"openpyxl\"\u001b[0m\u001b[0;34m)\u001b[0m\u001b[0;34m\u001b[0m\u001b[0;34m\u001b[0m\u001b[0m\n\u001b[0;32m--> 522\u001b[0;31m         \u001b[0msuper\u001b[0m\u001b[0;34m(\u001b[0m\u001b[0;34m)\u001b[0m\u001b[0;34m.\u001b[0m\u001b[0m__init__\u001b[0m\u001b[0;34m(\u001b[0m\u001b[0mfilepath_or_buffer\u001b[0m\u001b[0;34m,\u001b[0m \u001b[0mstorage_options\u001b[0m\u001b[0;34m=\u001b[0m\u001b[0mstorage_options\u001b[0m\u001b[0;34m)\u001b[0m\u001b[0;34m\u001b[0m\u001b[0;34m\u001b[0m\u001b[0m\n\u001b[0m\u001b[1;32m    523\u001b[0m \u001b[0;34m\u001b[0m\u001b[0m\n\u001b[1;32m    524\u001b[0m     \u001b[0;34m@\u001b[0m\u001b[0mproperty\u001b[0m\u001b[0;34m\u001b[0m\u001b[0;34m\u001b[0m\u001b[0m\n",
      "\u001b[0;32m~/opt/anaconda3/lib/python3.9/site-packages/pandas/io/excel/_base.py\u001b[0m in \u001b[0;36m__init__\u001b[0;34m(self, filepath_or_buffer, storage_options)\u001b[0m\n\u001b[1;32m    408\u001b[0m         )\n\u001b[1;32m    409\u001b[0m         \u001b[0;32mif\u001b[0m \u001b[0;32mnot\u001b[0m \u001b[0misinstance\u001b[0m\u001b[0;34m(\u001b[0m\u001b[0mfilepath_or_buffer\u001b[0m\u001b[0;34m,\u001b[0m \u001b[0;34m(\u001b[0m\u001b[0mExcelFile\u001b[0m\u001b[0;34m,\u001b[0m \u001b[0mself\u001b[0m\u001b[0;34m.\u001b[0m\u001b[0m_workbook_class\u001b[0m\u001b[0;34m)\u001b[0m\u001b[0;34m)\u001b[0m\u001b[0;34m:\u001b[0m\u001b[0;34m\u001b[0m\u001b[0;34m\u001b[0m\u001b[0m\n\u001b[0;32m--> 410\u001b[0;31m             self.handles = get_handle(\n\u001b[0m\u001b[1;32m    411\u001b[0m                 \u001b[0mfilepath_or_buffer\u001b[0m\u001b[0;34m,\u001b[0m \u001b[0;34m\"rb\"\u001b[0m\u001b[0;34m,\u001b[0m \u001b[0mstorage_options\u001b[0m\u001b[0;34m=\u001b[0m\u001b[0mstorage_options\u001b[0m\u001b[0;34m,\u001b[0m \u001b[0mis_text\u001b[0m\u001b[0;34m=\u001b[0m\u001b[0;32mFalse\u001b[0m\u001b[0;34m\u001b[0m\u001b[0;34m\u001b[0m\u001b[0m\n\u001b[1;32m    412\u001b[0m             )\n",
      "\u001b[0;32m~/opt/anaconda3/lib/python3.9/site-packages/pandas/io/common.py\u001b[0m in \u001b[0;36mget_handle\u001b[0;34m(path_or_buf, mode, encoding, compression, memory_map, is_text, errors, storage_options)\u001b[0m\n\u001b[1;32m    709\u001b[0m         \u001b[0;32melse\u001b[0m\u001b[0;34m:\u001b[0m\u001b[0;34m\u001b[0m\u001b[0;34m\u001b[0m\u001b[0m\n\u001b[1;32m    710\u001b[0m             \u001b[0;31m# Binary mode\u001b[0m\u001b[0;34m\u001b[0m\u001b[0;34m\u001b[0m\u001b[0m\n\u001b[0;32m--> 711\u001b[0;31m             \u001b[0mhandle\u001b[0m \u001b[0;34m=\u001b[0m \u001b[0mopen\u001b[0m\u001b[0;34m(\u001b[0m\u001b[0mhandle\u001b[0m\u001b[0;34m,\u001b[0m \u001b[0mioargs\u001b[0m\u001b[0;34m.\u001b[0m\u001b[0mmode\u001b[0m\u001b[0;34m)\u001b[0m\u001b[0;34m\u001b[0m\u001b[0;34m\u001b[0m\u001b[0m\n\u001b[0m\u001b[1;32m    712\u001b[0m         \u001b[0mhandles\u001b[0m\u001b[0;34m.\u001b[0m\u001b[0mappend\u001b[0m\u001b[0;34m(\u001b[0m\u001b[0mhandle\u001b[0m\u001b[0;34m)\u001b[0m\u001b[0;34m\u001b[0m\u001b[0;34m\u001b[0m\u001b[0m\n\u001b[1;32m    713\u001b[0m \u001b[0;34m\u001b[0m\u001b[0m\n",
      "\u001b[0;31mFileNotFoundError\u001b[0m: [Errno 2] No such file or directory: 'e2ab_Master.xlsx'"
     ]
    }
   ],
   "source": [
    "Chris = pd.read_excel(\"e2ab_Master.xlsx\", engine='openpyxl', sheet_name=\"CF_CORRECTED_9.14.23\").drop([\"Response\"], axis=1)\n",
    "Claude = pd.read_excel(\"e2ab_Master.xlsx\", engine='openpyxl', sheet_name=\"e2b_CF\").drop([\"Comments\", \"Response\",\"prim_key\",\"global comments\"], axis=1)"
   ]
  },
  {
   "cell_type": "code",
   "execution_count": null,
   "metadata": {
    "executionInfo": {
     "elapsed": 8,
     "status": "ok",
     "timestamp": 1690221963506,
     "user": {
      "displayName": "Chris Soria",
      "userId": "08765891894792148090"
     },
     "user_tz": 420
    },
    "id": "uKWg3Wp-FbfE"
   },
   "outputs": [],
   "source": [
    "Chris = Chris.fillna(0)\n",
    "Claude = Claude.fillna(0)"
   ]
  },
  {
   "cell_type": "code",
   "execution_count": null,
   "metadata": {
    "executionInfo": {
     "elapsed": 8,
     "status": "ok",
     "timestamp": 1690221963507,
     "user": {
      "displayName": "Chris Soria",
      "userId": "08765891894792148090"
     },
     "user_tz": 420
    },
    "id": "i93MiYSuI-bj"
   },
   "outputs": [],
   "source": [
    "# Define a custom function to remove decimals and convert to integers\n",
    "def remove_decimals(value):\n",
    "    if isinstance(value, (int, float)):\n",
    "        return int(value)\n",
    "    else:\n",
    "        return value\n",
    "\n",
    "# Apply the custom function to each element in the DataFrame\n",
    "Chris = Chris.applymap(remove_decimals)\n",
    "Claude = Claude.applymap(remove_decimals)"
   ]
  },
  {
   "cell_type": "code",
   "execution_count": null,
   "metadata": {
    "colab": {
     "base_uri": "https://localhost:8080/",
     "height": 268
    },
    "executionInfo": {
     "elapsed": 8,
     "status": "ok",
     "timestamp": 1690221963507,
     "user": {
      "displayName": "Chris Soria",
      "userId": "08765891894792148090"
     },
     "user_tz": 420
    },
    "id": "j1IphrGASwvF",
    "outputId": "853a9060-46d1-4ca6-ec6d-06199a935cb0",
    "scrolled": true
   },
   "outputs": [],
   "source": [
    "Claude.head()"
   ]
  },
  {
   "cell_type": "markdown",
   "metadata": {},
   "source": [
    "After going over the discrepencies with Claude, we decided that\n",
    "- Simple Assertion:   Gets code Yes IFF it is coded Yes by EITHER coder AND has no other codes."
   ]
  },
  {
   "cell_type": "code",
   "execution_count": null,
   "metadata": {},
   "outputs": [],
   "source": [
    "Claude['column_sums'] = Claude.iloc[:, 1:-3].sum(axis=1)\n",
    "Chris['column_sums'] = Chris.iloc[:, 1:].sum(axis=1)\n",
    "\n",
    "Claude['Simple_Assertion'] = Claude.apply(lambda row: 0 if row['column_sums'] > 0 and row['Simple Assertion'] == 1 else row['Simple Assertion'], axis=1)\n",
    "Chris['Simple_Assertion'] = Chris.apply(lambda row: 0 if row['column_sums'] > 0 and row['Simple Assertion'] == 1 else row['Simple Assertion'], axis=1)\n",
    "\n",
    "Claude['Simple_Assertion'] = Claude.apply(lambda row: 1 if row['Simple_Assertion'] == 1 or Chris.loc[row.name, 'Simple_Assertion'] == 1 else row['Simple_Assertion'], axis=1)\n",
    "Claude['Past_Support'] = Claude.apply(lambda row: 0 if row['column_sums'] > 0 and row['Simple_Assertion'] == 1 else row['Simple_Assertion'], axis=1)\n",
    "\n",
    "Claude = Claude.drop(columns=['column_sums','Simple Assertion'])\n",
    "Chris = Chris.drop(columns=['column_sums','Simple Assertion'])"
   ]
  },
  {
   "cell_type": "markdown",
   "metadata": {},
   "source": [
    "Explicit : EITHER a CS or a CF Yes –> Yes \\\n",
    "Close-Knit: EITHER \\\n",
    "Personal Character: EITHER \\\n",
    "Past Support: EITHER \\\n",
    "Unreliable: EITHER. \\\n",
    "     > Note: This is a very unreliable coding; many differences between CF and CS, and has to be “asterisked” in future \\\n",
    "Reciprocal: EITHER \\\n",
    "Estranged: EITHER \\\n",
    "     > In re-labeling, have to make clear that this is “indifference, estrangement, or hostility.” \\\n",
    "Independent: EITHER \\\n",
    "Resources: EITHER \\\n",
    "     > Understood to largely involve references to material resources, but also more broadly coded (as CF did) to include resources like time, demands... It’s about constraints on friends’ ability to help. \\\n",
    "Geography (Distance): EITHER \\\n",
    "Friends as Family: EITHER \\\n",
    "No Friends: EITHER \\\n",
    "     > Understood as few or no friends; emphasis by respondent an scarcity/absence of friends. \\\n",
    "Verbal: EITHER \\\n",
    "Other, Yes: EITHER \\\n",
    "Other, No: EITHER"
   ]
  },
  {
   "cell_type": "markdown",
   "metadata": {},
   "source": [
    "$$\n",
    "v_{N,i} = \\begin{cases} \n",
    "1 & \\text{if } v_{C,i} = 1 \\text{ or } v_{K,i} = 1 \\\\\n",
    "v_{C,i} & \\text{otherwise}\n",
    "\\end{cases}\n",
    "$$"
   ]
  },
  {
   "cell_type": "code",
   "execution_count": null,
   "metadata": {},
   "outputs": [],
   "source": [
    "Claude['Explicit_Friendship_Norms'] = Claude.apply(lambda row: 1 if row['Explicit Friendship Norms'] == 1 or Chris.loc[row.name, 'Explicit Friendship Norms'] == 1 else row['Explicit Friendship Norms'], axis=1)\n",
    "Claude['Close_knit'] = Claude.apply(lambda row: 1 if row['Close-knit Loyalty'] == 1 or Chris.loc[row.name, 'Close-knit Loyalty'] == 1 else row['Close-knit Loyalty'], axis=1)\n",
    "Claude['Personal_Character'] = Claude.apply(lambda row: 1 if row['Personal Character'] == 1 or Chris.loc[row.name, 'Personal Character'] == 1 else row['Personal Character'], axis=1)\n",
    "Claude['Past_Support'] = Claude.apply(lambda row: 1 if row['Past Support'] == 1 or Chris.loc[row.name, 'Past Support'] == 1 else row['Past Support'], axis=1)\n",
    "Claude['Not_Reliable'] = Claude.apply(lambda row: 1 if row['Unreliable '] == 1 or Chris.loc[row.name, 'Unreliable '] == 1 else row['Unreliable '], axis=1)\n",
    "Claude['Reciprocal_Support'] = Claude.apply(lambda row: 1 if row['Reciprocal Support '] == 1 or Chris.loc[row.name, 'Reciprocal Support '] == 1 else row['Reciprocal Support '], axis=1)\n",
    "Claude['Estrangement'] = Claude.apply(lambda row: 1 if row['Estrangement and Hostility'] == 1 or Chris.loc[row.name, 'Estrangement and Hostility'] == 1 else row['Estrangement and Hostility'], axis=1)\n",
    "Claude['Independence'] = Claude.apply(lambda row: 1 if row['Independence or Unwillingness'] == 1 or Chris.loc[row.name, 'Independence or Unwillingness'] == 1 else row['Independence or Unwillingness'], axis=1)\n",
    "Claude['Resources'] = Claude.apply(lambda row: 1 if row[\"Friend's Resources\"] == 1 or Chris.loc[row.name, \"Friend's Resources\"] == 1 else row[\"Friend's Resources\"], axis=1)\n",
    "Claude['Geographic_Proximity'] = Claude.apply(lambda row: 1 if row[\"Geographic Proximity\"] == 1 or Chris.loc[row.name, \"Geographic Proximity\"] == 1 else row[\"Geographic Proximity\"], axis=1)\n",
    "Claude['Friends_as_Family'] = Claude.apply(lambda row: 1 if row[\"Friends as Family\"] == 1 or Chris.loc[row.name, \"Friends as Family\"] == 1 else row[\"Friends as Family\"], axis=1)\n",
    "Claude['No_Friends'] = Claude.apply(lambda row: 1 if row[\"No Friends\"] == 1 or Chris.loc[row.name, \"No Friends\"] == 1 else row[\"No Friends\"], axis=1)\n",
    "Claude['Verbal'] = Claude.apply(lambda row: 1 if row[\"Verbal Assurance\"] == 1 or Chris.loc[row.name, \"Verbal Assurance\"] == 1 else row[\"Verbal Assurance\"], axis=1)\n",
    "Claude['Other_Help'] = Claude.apply(lambda row: 1 if row[\"Other Reasons for Help\"] == 1 or Chris.loc[row.name, \"Other Reasons for Help\"] == 1 else row[\"Other Reasons for Help\"], axis=1)\n",
    "Claude['Other_no_Help'] = Claude.apply(lambda row: 1 if row[\"Other Reasons for NO Help\"] == 1 or Chris.loc[row.name, \"Other Reasons for NO Help\"] == 1 else row[\"Other Reasons for NO Help\"], axis=1)\n",
    "\n",
    "Claude = Claude.drop(columns=['Explicit Friendship Norms','Close-knit Loyalty','Personal Character','Past Support',\n",
    "                             'Unreliable ','Reciprocal Support ','Estrangement and Hostility','Independence or Unwillingness',\n",
    "                             \"Friend's Resources\",'Geographic Proximity','Friends as Family','No Friends','Other Reasons for Help',\n",
    "                             'Other Reasons for NO Help','Verbal Assurance'])"
   ]
  },
  {
   "cell_type": "markdown",
   "metadata": {},
   "source": [
    "Duration: Use Chris’s codes."
   ]
  },
  {
   "cell_type": "code",
   "execution_count": null,
   "metadata": {},
   "outputs": [],
   "source": [
    "Claude['Duration'] = Chris['Duration of Relationship']\n",
    "Claude = Claude.drop(columns=['Duration of Relationship'])"
   ]
  },
  {
   "cell_type": "markdown",
   "metadata": {},
   "source": [
    "Implicit: Use Claude's codes. In other words we'll just leave that column alone."
   ]
  },
  {
   "cell_type": "code",
   "execution_count": null,
   "metadata": {},
   "outputs": [],
   "source": [
    "Claude['Implicit_Friendship_Norms'] = Claude['Implicit Friendship Norms']\n",
    "Claude = Claude.drop(columns=['Implicit Friendship Norms'])"
   ]
  },
  {
   "cell_type": "code",
   "execution_count": null,
   "metadata": {},
   "outputs": [],
   "source": [
    "ordered_columns = ['Simple_Assertion', 'Implicit_Friendship_Norms', 'Explicit_Friendship_Norms', 'Close_knit',\n",
    "                  'Personal_Character','Past_Support','Not_Reliable','Reciprocal_Support','Estrangement','Independence',\n",
    "                  'Resources','Geographic_Proximity','Friends_as_Family','No_Friends','Verbal','Duration',\n",
    "                  'Other_Help','Other_no_Help','Not Clear / Uncodeable']\n",
    "\n",
    "Claude = Claude[ordered_columns]"
   ]
  },
  {
   "cell_type": "markdown",
   "metadata": {},
   "source": [
    "Next, Claude and I agreed that we would create new columns\n",
    "- life experiences \n",
    "- preference for family \n",
    "- reciprocal: would \n",
    "- single person"
   ]
  },
  {
   "cell_type": "code",
   "execution_count": null,
   "metadata": {},
   "outputs": [],
   "source": [
    "Chris_comments = pd.read_excel(\"e2ab_Master.xlsx\", engine='openpyxl', sheet_name=\"e2b_CS\")[[\"Comments\"]]['Comments'].str.lower()\n",
    "Claude_comments = pd.read_excel(\"e2ab_Master.xlsx\", engine=\"openpyxl\", sheet_name=\"e2b_CF\")[[\"Comments\"]]['Comments'].str.lower()\n",
    "\n",
    "Claude['Chris_comments'] = Chris_comments.astype(str)\n",
    "Claude['Claude_comments'] = Claude_comments.astype(str)\n",
    "\n",
    "Claude['Life_Experience'] = Claude['Chris_comments'].str.contains('experience').astype(int)\n",
    "Claude['Family_First'] = Claude['Chris_comments'].str.contains('preference').astype(int)\n",
    "Claude['Reciprocal_Would'] = Claude['Claude_comments'].str.contains('reciprocal: would').astype(int)\n",
    "Claude['Single_Person'] = Claude['Claude_comments'].str.contains('single person').astype(int)"
   ]
  },
  {
   "cell_type": "code",
   "execution_count": null,
   "metadata": {},
   "outputs": [],
   "source": [
    "Claude['Other_Help'] = Claude.apply(lambda row: 0 if row['Life_Experience'] == 1 or row['Family_First'] == 1 or row['Reciprocal_Would'] == 1 or row['Single_Person'] == 1 else row['Other_Help'], axis=1)"
   ]
  },
  {
   "cell_type": "code",
   "execution_count": null,
   "metadata": {},
   "outputs": [],
   "source": [
    "ordered_columns = ['Simple_Assertion', 'Implicit_Friendship_Norms', 'Explicit_Friendship_Norms', 'Close_knit',\n",
    "                  'Personal_Character','Past_Support','Not_Reliable','Reciprocal_Support','Estrangement','Independence',\n",
    "                  'Resources','Geographic_Proximity','Friends_as_Family','No_Friends','Verbal','Duration','Life_Experience',\n",
    "                  'Family_First','Reciprocal_Would','Single_Person','Other_Help','Other_no_Help','Not Clear / Uncodeable']\n",
    "\n",
    "Claude = Claude[ordered_columns]"
   ]
  },
  {
   "cell_type": "code",
   "execution_count": null,
   "metadata": {},
   "outputs": [],
   "source": [
    "Claude['Uncodeable'] = np.where(Claude.iloc[:, :18].sum(axis=1) > 0, 0, Claude['Not Clear / Uncodeable'])"
   ]
  },
  {
   "cell_type": "code",
   "execution_count": null,
   "metadata": {},
   "outputs": [],
   "source": [
    "# Read the response column from the Excel file\n",
    "response = pd.read_excel(\"e2ab_Master.xlsx\", engine='openpyxl', sheet_name=\"e2b_CS\", usecols=\"B\")\n",
    "\n",
    "# Rename the column to \"Response\"\n",
    "response = response.rename(columns={\"A\": \"Response\"})\n",
    "\n",
    "Claude = pd.concat([response['Response'].reset_index(drop=True), Claude.reset_index(drop=True)], axis=1)\n",
    "\n",
    "Claude.to_csv(\"/Users/chrissoria/Documents/Research/Family_Versus_Friend_Social_Support/codes/e1ab_Master_Coded.csv\", index=False)"
   ]
  }
 ],
 "metadata": {
  "colab": {
   "authorship_tag": "ABX9TyNPxXHtt9S00Uq/054P4NnM",
   "provenance": []
  },
  "kernelspec": {
   "display_name": "Python 3 (ipykernel)",
   "language": "python",
   "name": "python3"
  },
  "language_info": {
   "codemirror_mode": {
    "name": "ipython",
    "version": 3
   },
   "file_extension": ".py",
   "mimetype": "text/x-python",
   "name": "python",
   "nbconvert_exporter": "python",
   "pygments_lexer": "ipython3",
   "version": "3.9.7"
  }
 },
 "nbformat": 4,
 "nbformat_minor": 1
}
