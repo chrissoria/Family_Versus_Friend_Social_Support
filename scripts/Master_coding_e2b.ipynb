{
 "cells": [
  {
   "cell_type": "code",
   "execution_count": 1,
   "metadata": {
    "executionInfo": {
     "elapsed": 818,
     "status": "ok",
     "timestamp": 1690221961706,
     "user": {
      "displayName": "Chris Soria",
      "userId": "08765891894792148090"
     },
     "user_tz": 420
    },
    "id": "dUXUBtTtCBdj"
   },
   "outputs": [],
   "source": [
    "import openai\n",
    "import pandas as pd\n",
    "import numpy as np\n",
    "import json\n",
    "import os\n",
    "import re\n",
    "import time\n",
    "from langchain.chat_models import ChatOpenAI\n",
    "from langchain.prompts import ChatPromptTemplate\n",
    "from dotenv import load_dotenv, find_dotenv"
   ]
  },
  {
   "cell_type": "code",
   "execution_count": 2,
   "metadata": {
    "colab": {
     "base_uri": "https://localhost:8080/"
    },
    "executionInfo": {
     "elapsed": 1093,
     "status": "ok",
     "timestamp": 1690221962797,
     "user": {
      "displayName": "Chris Soria",
      "userId": "08765891894792148090"
     },
     "user_tz": 420
    },
    "id": "-Zy5e6AbCSOT",
    "outputId": "fd637633-64f9-4269-ddc1-c6a84254c95d"
   },
   "outputs": [
    {
     "name": "stdout",
     "output_type": "stream",
     "text": [
      "/Users/chrissoria/Documents/Research/UCNets_Classification/Hand_Coding_Surveys/e2b\n"
     ]
    }
   ],
   "source": [
    "os.chdir('/Users/chrissoria/Documents/Research/UCNets_Classification/Hand_Coding_Surveys/e2b')\n",
    "current_directory = os.getcwd()\n",
    "print(current_directory)"
   ]
  },
  {
   "cell_type": "code",
   "execution_count": 3,
   "metadata": {},
   "outputs": [],
   "source": [
    "Chris = pd.read_excel(\"e2ab_Master.xlsx\", engine='openpyxl', sheet_name=\"CF_CORRECTED_9.14.23\").drop([\"Response\"], axis=1)\n",
    "Claude = pd.read_excel(\"e2ab_Master.xlsx\", engine='openpyxl', sheet_name=\"e2b_CF\").drop([\"Comments\", \"Response\",\"prim_key\",\"global comments\"], axis=1)"
   ]
  },
  {
   "cell_type": "code",
   "execution_count": 4,
   "metadata": {
    "executionInfo": {
     "elapsed": 8,
     "status": "ok",
     "timestamp": 1690221963506,
     "user": {
      "displayName": "Chris Soria",
      "userId": "08765891894792148090"
     },
     "user_tz": 420
    },
    "id": "uKWg3Wp-FbfE"
   },
   "outputs": [],
   "source": [
    "Chris = Chris.fillna(0)\n",
    "Claude = Claude.fillna(0)"
   ]
  },
  {
   "cell_type": "code",
   "execution_count": 5,
   "metadata": {
    "executionInfo": {
     "elapsed": 8,
     "status": "ok",
     "timestamp": 1690221963507,
     "user": {
      "displayName": "Chris Soria",
      "userId": "08765891894792148090"
     },
     "user_tz": 420
    },
    "id": "i93MiYSuI-bj"
   },
   "outputs": [],
   "source": [
    "# Define a custom function to remove decimals and convert to integers\n",
    "def remove_decimals(value):\n",
    "    if isinstance(value, (int, float)):\n",
    "        return int(value)\n",
    "    else:\n",
    "        return value\n",
    "\n",
    "# Apply the custom function to each element in the DataFrame\n",
    "Chris = Chris.applymap(remove_decimals)\n",
    "Claude = Claude.applymap(remove_decimals)"
   ]
  },
  {
   "cell_type": "code",
   "execution_count": 6,
   "metadata": {
    "colab": {
     "base_uri": "https://localhost:8080/",
     "height": 268
    },
    "executionInfo": {
     "elapsed": 8,
     "status": "ok",
     "timestamp": 1690221963507,
     "user": {
      "displayName": "Chris Soria",
      "userId": "08765891894792148090"
     },
     "user_tz": 420
    },
    "id": "j1IphrGASwvF",
    "outputId": "853a9060-46d1-4ca6-ec6d-06199a935cb0",
    "scrolled": true
   },
   "outputs": [
    {
     "data": {
      "text/html": [
       "<div>\n",
       "<style scoped>\n",
       "    .dataframe tbody tr th:only-of-type {\n",
       "        vertical-align: middle;\n",
       "    }\n",
       "\n",
       "    .dataframe tbody tr th {\n",
       "        vertical-align: top;\n",
       "    }\n",
       "\n",
       "    .dataframe thead th {\n",
       "        text-align: right;\n",
       "    }\n",
       "</style>\n",
       "<table border=\"1\" class=\"dataframe\">\n",
       "  <thead>\n",
       "    <tr style=\"text-align: right;\">\n",
       "      <th></th>\n",
       "      <th>Simple Assertion</th>\n",
       "      <th>Implicit Friendship Norms</th>\n",
       "      <th>Explicit Friendship Norms</th>\n",
       "      <th>Close-knit Loyalty</th>\n",
       "      <th>Personal Character</th>\n",
       "      <th>Past Support</th>\n",
       "      <th>Unreliable</th>\n",
       "      <th>Reciprocal Support</th>\n",
       "      <th>Estrangement and Hostility</th>\n",
       "      <th>Independence or Unwillingness</th>\n",
       "      <th>Friend's Resources</th>\n",
       "      <th>Geographic Proximity</th>\n",
       "      <th>Friends as Family</th>\n",
       "      <th>No Friends</th>\n",
       "      <th>Verbal Assurance</th>\n",
       "      <th>Duration of Relationship</th>\n",
       "      <th>Other Reasons for Help</th>\n",
       "      <th>Other Reasons for NO Help</th>\n",
       "      <th>Not Clear / Uncodeable</th>\n",
       "    </tr>\n",
       "  </thead>\n",
       "  <tbody>\n",
       "    <tr>\n",
       "      <th>0</th>\n",
       "      <td>0</td>\n",
       "      <td>1</td>\n",
       "      <td>0</td>\n",
       "      <td>1</td>\n",
       "      <td>0</td>\n",
       "      <td>0</td>\n",
       "      <td>0</td>\n",
       "      <td>0</td>\n",
       "      <td>0</td>\n",
       "      <td>0</td>\n",
       "      <td>0</td>\n",
       "      <td>0</td>\n",
       "      <td>0</td>\n",
       "      <td>0</td>\n",
       "      <td>0</td>\n",
       "      <td>0</td>\n",
       "      <td>0</td>\n",
       "      <td>0</td>\n",
       "      <td>0</td>\n",
       "    </tr>\n",
       "    <tr>\n",
       "      <th>1</th>\n",
       "      <td>0</td>\n",
       "      <td>0</td>\n",
       "      <td>0</td>\n",
       "      <td>1</td>\n",
       "      <td>0</td>\n",
       "      <td>0</td>\n",
       "      <td>0</td>\n",
       "      <td>0</td>\n",
       "      <td>0</td>\n",
       "      <td>0</td>\n",
       "      <td>0</td>\n",
       "      <td>0</td>\n",
       "      <td>0</td>\n",
       "      <td>0</td>\n",
       "      <td>0</td>\n",
       "      <td>0</td>\n",
       "      <td>0</td>\n",
       "      <td>0</td>\n",
       "      <td>0</td>\n",
       "    </tr>\n",
       "    <tr>\n",
       "      <th>2</th>\n",
       "      <td>0</td>\n",
       "      <td>0</td>\n",
       "      <td>0</td>\n",
       "      <td>0</td>\n",
       "      <td>0</td>\n",
       "      <td>1</td>\n",
       "      <td>0</td>\n",
       "      <td>0</td>\n",
       "      <td>0</td>\n",
       "      <td>0</td>\n",
       "      <td>0</td>\n",
       "      <td>0</td>\n",
       "      <td>0</td>\n",
       "      <td>0</td>\n",
       "      <td>0</td>\n",
       "      <td>0</td>\n",
       "      <td>0</td>\n",
       "      <td>0</td>\n",
       "      <td>0</td>\n",
       "    </tr>\n",
       "    <tr>\n",
       "      <th>3</th>\n",
       "      <td>0</td>\n",
       "      <td>0</td>\n",
       "      <td>0</td>\n",
       "      <td>1</td>\n",
       "      <td>0</td>\n",
       "      <td>0</td>\n",
       "      <td>0</td>\n",
       "      <td>0</td>\n",
       "      <td>0</td>\n",
       "      <td>0</td>\n",
       "      <td>0</td>\n",
       "      <td>0</td>\n",
       "      <td>0</td>\n",
       "      <td>0</td>\n",
       "      <td>0</td>\n",
       "      <td>0</td>\n",
       "      <td>0</td>\n",
       "      <td>0</td>\n",
       "      <td>0</td>\n",
       "    </tr>\n",
       "    <tr>\n",
       "      <th>4</th>\n",
       "      <td>1</td>\n",
       "      <td>0</td>\n",
       "      <td>0</td>\n",
       "      <td>0</td>\n",
       "      <td>1</td>\n",
       "      <td>0</td>\n",
       "      <td>0</td>\n",
       "      <td>0</td>\n",
       "      <td>0</td>\n",
       "      <td>0</td>\n",
       "      <td>0</td>\n",
       "      <td>0</td>\n",
       "      <td>0</td>\n",
       "      <td>0</td>\n",
       "      <td>0</td>\n",
       "      <td>0</td>\n",
       "      <td>0</td>\n",
       "      <td>0</td>\n",
       "      <td>0</td>\n",
       "    </tr>\n",
       "  </tbody>\n",
       "</table>\n",
       "</div>"
      ],
      "text/plain": [
       "   Simple Assertion  Implicit Friendship Norms  Explicit Friendship Norms  \\\n",
       "0                 0                          1                          0   \n",
       "1                 0                          0                          0   \n",
       "2                 0                          0                          0   \n",
       "3                 0                          0                          0   \n",
       "4                 1                          0                          0   \n",
       "\n",
       "   Close-knit Loyalty  Personal Character  Past Support  Unreliable   \\\n",
       "0                   1                   0             0            0   \n",
       "1                   1                   0             0            0   \n",
       "2                   0                   0             1            0   \n",
       "3                   1                   0             0            0   \n",
       "4                   0                   1             0            0   \n",
       "\n",
       "   Reciprocal Support   Estrangement and Hostility  \\\n",
       "0                    0                           0   \n",
       "1                    0                           0   \n",
       "2                    0                           0   \n",
       "3                    0                           0   \n",
       "4                    0                           0   \n",
       "\n",
       "   Independence or Unwillingness  Friend's Resources  Geographic Proximity  \\\n",
       "0                              0                   0                     0   \n",
       "1                              0                   0                     0   \n",
       "2                              0                   0                     0   \n",
       "3                              0                   0                     0   \n",
       "4                              0                   0                     0   \n",
       "\n",
       "   Friends as Family  No Friends  Verbal Assurance  Duration of Relationship  \\\n",
       "0                  0           0                 0                         0   \n",
       "1                  0           0                 0                         0   \n",
       "2                  0           0                 0                         0   \n",
       "3                  0           0                 0                         0   \n",
       "4                  0           0                 0                         0   \n",
       "\n",
       "   Other Reasons for Help  Other Reasons for NO Help  Not Clear / Uncodeable  \n",
       "0                       0                          0                       0  \n",
       "1                       0                          0                       0  \n",
       "2                       0                          0                       0  \n",
       "3                       0                          0                       0  \n",
       "4                       0                          0                       0  "
      ]
     },
     "execution_count": 6,
     "metadata": {},
     "output_type": "execute_result"
    }
   ],
   "source": [
    "Claude.head()"
   ]
  },
  {
   "cell_type": "markdown",
   "metadata": {},
   "source": [
    "After going over the discrepencies with Claude, we decided that\n",
    "- Simple Assertion:   Gets code Yes IFF it is coded Yes by EITHER coder AND has no other codes."
   ]
  },
  {
   "cell_type": "code",
   "execution_count": 7,
   "metadata": {},
   "outputs": [
    {
     "name": "stderr",
     "output_type": "stream",
     "text": [
      "/var/folders/89/6bdxzk2j30v5n3wstywbcpg80000gn/T/ipykernel_41644/3353353876.py:2: FutureWarning: Dropping of nuisance columns in DataFrame reductions (with 'numeric_only=None') is deprecated; in a future version this will raise TypeError.  Select only valid columns before calling the reduction.\n",
      "  Chris['column_sums'] = Chris.iloc[:, 1:].sum(axis=1)\n"
     ]
    }
   ],
   "source": [
    "Claude['column_sums'] = Claude.iloc[:, 1:-3].sum(axis=1)\n",
    "Chris['column_sums'] = Chris.iloc[:, 1:].sum(axis=1)\n",
    "\n",
    "Claude['Simple_Assertion'] = Claude.apply(lambda row: 0 if row['column_sums'] > 0 and row['Simple Assertion'] == 1 else row['Simple Assertion'], axis=1)\n",
    "Chris['Simple_Assertion'] = Chris.apply(lambda row: 0 if row['column_sums'] > 0 and row['Simple Assertion'] == 1 else row['Simple Assertion'], axis=1)\n",
    "\n",
    "Claude['Simple_Assertion'] = Claude.apply(lambda row: 1 if row['Simple_Assertion'] == 1 or Chris.loc[row.name, 'Simple_Assertion'] == 1 else row['Simple_Assertion'], axis=1)\n",
    "Claude['Past_Support'] = Claude.apply(lambda row: 0 if row['column_sums'] > 0 and row['Simple_Assertion'] == 1 else row['Simple_Assertion'], axis=1)\n",
    "\n",
    "Claude = Claude.drop(columns=['column_sums','Simple Assertion'])\n",
    "Chris = Chris.drop(columns=['column_sums','Simple Assertion'])"
   ]
  },
  {
   "cell_type": "markdown",
   "metadata": {},
   "source": [
    "Explicit : EITHER a CS or a CF Yes –> Yes \\\n",
    "Close-Knit: EITHER \\\n",
    "Personal Character: EITHER \\\n",
    "Past Support: EITHER \\\n",
    "Unreliable: EITHER. \\\n",
    "     > Note: This is a very unreliable coding; many differences between CF and CS, and has to be “asterisked” in future \\\n",
    "Reciprocal: EITHER \\\n",
    "Estranged: EITHER \\\n",
    "     > In re-labeling, have to make clear that this is “indifference, estrangement, or hostility.” \\\n",
    "Independent: EITHER \\\n",
    "Resources: EITHER \\\n",
    "     > Understood to largely involve references to material resources, but also more broadly coded (as CF did) to include resources like time, demands... It’s about constraints on friends’ ability to help. \\\n",
    "Geography (Distance): EITHER \\\n",
    "Friends as Family: EITHER \\\n",
    "No Friends: EITHER \\\n",
    "     > Understood as few or no friends; emphasis by respondent an scarcity/absence of friends. \\\n",
    "Verbal: EITHER \\\n",
    "Other, Yes: EITHER \\\n",
    "Other, No: EITHER"
   ]
  },
  {
   "cell_type": "markdown",
   "metadata": {},
   "source": [
    "$$\n",
    "v_{N,i} = \\begin{cases} \n",
    "1 & \\text{if } v_{C,i} = 1 \\text{ or } v_{K,i} = 1 \\\\\n",
    "v_{C,i} & \\text{otherwise}\n",
    "\\end{cases}\n",
    "$$"
   ]
  },
  {
   "cell_type": "code",
   "execution_count": 8,
   "metadata": {},
   "outputs": [],
   "source": [
    "Claude['Explicit_Friendship_Norms'] = Claude.apply(lambda row: 1 if row['Explicit Friendship Norms'] == 1 or Chris.loc[row.name, 'Explicit Friendship Norms'] == 1 else row['Explicit Friendship Norms'], axis=1)\n",
    "Claude['Close_knit'] = Claude.apply(lambda row: 1 if row['Close-knit Loyalty'] == 1 or Chris.loc[row.name, 'Close-knit Loyalty'] == 1 else row['Close-knit Loyalty'], axis=1)\n",
    "Claude['Personal_Character'] = Claude.apply(lambda row: 1 if row['Personal Character'] == 1 or Chris.loc[row.name, 'Personal Character'] == 1 else row['Personal Character'], axis=1)\n",
    "Claude['Past_Support'] = Claude.apply(lambda row: 1 if row['Past Support'] == 1 or Chris.loc[row.name, 'Past Support'] == 1 else row['Past Support'], axis=1)\n",
    "Claude['Not_Reliable'] = Claude.apply(lambda row: 1 if row['Unreliable '] == 1 or Chris.loc[row.name, 'Unreliable '] == 1 else row['Unreliable '], axis=1)\n",
    "Claude['Reciprocal_Support'] = Claude.apply(lambda row: 1 if row['Reciprocal Support '] == 1 or Chris.loc[row.name, 'Reciprocal Support '] == 1 else row['Reciprocal Support '], axis=1)\n",
    "Claude['Estrangement'] = Claude.apply(lambda row: 1 if row['Estrangement and Hostility'] == 1 or Chris.loc[row.name, 'Estrangement and Hostility'] == 1 else row['Estrangement and Hostility'], axis=1)\n",
    "Claude['Independence'] = Claude.apply(lambda row: 1 if row['Independence or Unwillingness'] == 1 or Chris.loc[row.name, 'Independence or Unwillingness'] == 1 else row['Independence or Unwillingness'], axis=1)\n",
    "Claude['Resources'] = Claude.apply(lambda row: 1 if row[\"Friend's Resources\"] == 1 or Chris.loc[row.name, \"Friend's Resources\"] == 1 else row[\"Friend's Resources\"], axis=1)\n",
    "Claude['Geographic_Proximity'] = Claude.apply(lambda row: 1 if row[\"Geographic Proximity\"] == 1 or Chris.loc[row.name, \"Geographic Proximity\"] == 1 else row[\"Geographic Proximity\"], axis=1)\n",
    "Claude['Friends_as_Family'] = Claude.apply(lambda row: 1 if row[\"Friends as Family\"] == 1 or Chris.loc[row.name, \"Friends as Family\"] == 1 else row[\"Friends as Family\"], axis=1)\n",
    "Claude['No_Friends'] = Claude.apply(lambda row: 1 if row[\"No Friends\"] == 1 or Chris.loc[row.name, \"No Friends\"] == 1 else row[\"No Friends\"], axis=1)\n",
    "Claude['Verbal'] = Claude.apply(lambda row: 1 if row[\"Verbal Assurance\"] == 1 or Chris.loc[row.name, \"Verbal Assurance\"] == 1 else row[\"Verbal Assurance\"], axis=1)\n",
    "Claude['Other_Help'] = Claude.apply(lambda row: 1 if row[\"Other Reasons for Help\"] == 1 or Chris.loc[row.name, \"Other Reasons for Help\"] == 1 else row[\"Other Reasons for Help\"], axis=1)\n",
    "Claude['Other_no_Help'] = Claude.apply(lambda row: 1 if row[\"Other Reasons for NO Help\"] == 1 or Chris.loc[row.name, \"Other Reasons for NO Help\"] == 1 else row[\"Other Reasons for NO Help\"], axis=1)\n",
    "\n",
    "Claude = Claude.drop(columns=['Explicit Friendship Norms','Close-knit Loyalty','Personal Character','Past Support',\n",
    "                             'Unreliable ','Reciprocal Support ','Estrangement and Hostility','Independence or Unwillingness',\n",
    "                             \"Friend's Resources\",'Geographic Proximity','Friends as Family','No Friends','Other Reasons for Help',\n",
    "                             'Other Reasons for NO Help','Verbal Assurance'])"
   ]
  },
  {
   "cell_type": "markdown",
   "metadata": {},
   "source": [
    "Duration: Use Chris’s codes."
   ]
  },
  {
   "cell_type": "code",
   "execution_count": 9,
   "metadata": {},
   "outputs": [],
   "source": [
    "Claude['Duration'] = Chris['Duration of Relationship']\n",
    "Claude = Claude.drop(columns=['Duration of Relationship'])"
   ]
  },
  {
   "cell_type": "markdown",
   "metadata": {},
   "source": [
    "Implicit: Use Claude's codes. In other words we'll just leave that column alone."
   ]
  },
  {
   "cell_type": "code",
   "execution_count": 10,
   "metadata": {},
   "outputs": [],
   "source": [
    "Claude['Implicit_Friendship_Norms'] = Claude['Implicit Friendship Norms']\n",
    "Claude = Claude.drop(columns=['Implicit Friendship Norms'])"
   ]
  },
  {
   "cell_type": "code",
   "execution_count": 11,
   "metadata": {},
   "outputs": [],
   "source": [
    "ordered_columns = ['Simple_Assertion', 'Implicit_Friendship_Norms', 'Explicit_Friendship_Norms', 'Close_knit',\n",
    "                  'Personal_Character','Past_Support','Not_Reliable','Reciprocal_Support','Estrangement','Independence',\n",
    "                  'Resources','Geographic_Proximity','Friends_as_Family','No_Friends','Verbal','Duration',\n",
    "                  'Other_Help','Other_no_Help','Not Clear / Uncodeable']\n",
    "\n",
    "Claude = Claude[ordered_columns]"
   ]
  },
  {
   "cell_type": "markdown",
   "metadata": {},
   "source": [
    "Next, Claude and I agreed that we would create new columns\n",
    "- life experiences \n",
    "- preference for family \n",
    "- reciprocal: would \n",
    "- single person"
   ]
  },
  {
   "cell_type": "code",
   "execution_count": 12,
   "metadata": {},
   "outputs": [
    {
     "name": "stderr",
     "output_type": "stream",
     "text": [
      "/Users/chrissoria/opt/anaconda3/lib/python3.9/site-packages/openpyxl/worksheet/_reader.py:312: UserWarning: Data Validation extension is not supported and will be removed\n",
      "  warn(msg)\n"
     ]
    }
   ],
   "source": [
    "Chris_comments = pd.read_excel(\"e2ab_Master.xlsx\", engine='openpyxl', sheet_name=\"e2b_CS\")[[\"Comments\"]]['Comments'].str.lower()\n",
    "Claude_comments = pd.read_excel(\"e2ab_Master.xlsx\", engine=\"openpyxl\", sheet_name=\"e2b_CF\")[[\"Comments\"]]['Comments'].str.lower()\n",
    "\n",
    "Claude['Chris_comments'] = Chris_comments.astype(str)\n",
    "Claude['Claude_comments'] = Claude_comments.astype(str)\n",
    "\n",
    "Claude['Life_Experience'] = Claude['Chris_comments'].str.contains('experience').astype(int)\n",
    "Claude['Family_First'] = Claude['Chris_comments'].str.contains('preference').astype(int)\n",
    "Claude['Reciprocal_Would'] = Claude['Claude_comments'].str.contains('reciprocal: would').astype(int)\n",
    "Claude['Single_Person'] = Claude['Claude_comments'].str.contains('single person').astype(int)"
   ]
  },
  {
   "cell_type": "code",
   "execution_count": 13,
   "metadata": {},
   "outputs": [],
   "source": [
    "Claude['Other_Help'] = Claude.apply(lambda row: 0 if row['Life_Experience'] == 1 or row['Family_First'] == 1 or row['Reciprocal_Would'] == 1 or row['Single_Person'] == 1 else row['Other_Help'], axis=1)"
   ]
  },
  {
   "cell_type": "code",
   "execution_count": 14,
   "metadata": {},
   "outputs": [],
   "source": [
    "ordered_columns = ['Simple_Assertion', 'Implicit_Friendship_Norms', 'Explicit_Friendship_Norms', 'Close_knit',\n",
    "                  'Personal_Character','Past_Support','Not_Reliable','Reciprocal_Support','Estrangement','Independence',\n",
    "                  'Resources','Geographic_Proximity','Friends_as_Family','No_Friends','Verbal','Duration','Life_Experience',\n",
    "                  'Family_First','Reciprocal_Would','Single_Person','Other_Help','Other_no_Help','Not Clear / Uncodeable']\n",
    "\n",
    "Claude = Claude[ordered_columns]"
   ]
  },
  {
   "cell_type": "code",
   "execution_count": 15,
   "metadata": {},
   "outputs": [],
   "source": [
    "Claude['Uncodeable'] = np.where(Claude.iloc[:, :18].sum(axis=1) > 0, 0, Claude['Not Clear / Uncodeable'])"
   ]
  },
  {
   "cell_type": "code",
   "execution_count": 17,
   "metadata": {},
   "outputs": [],
   "source": [
    "# Read the response column from the Excel file\n",
    "response = pd.read_excel(\"e2ab_Master.xlsx\", engine='openpyxl', sheet_name=\"e2b_CS\", usecols=\"A\")\n",
    "\n",
    "# Rename the column to \"Response\"\n",
    "response = response.rename(columns={\"A\": \"prim_key\"})\n",
    "\n",
    "Claude = pd.concat([response['prim_key'].reset_index(drop=True), Claude.reset_index(drop=True)], axis=1)\n",
    "\n",
    "Claude.to_csv(\"/Users/chrissoria/Documents/Research/Family_Versus_Friend_Social_Support/codes/e2ab_Master_Coded.csv\", index=False)"
   ]
  },
  {
   "cell_type": "code",
   "execution_count": null,
   "metadata": {},
   "outputs": [],
   "source": []
  }
 ],
 "metadata": {
  "colab": {
   "authorship_tag": "ABX9TyNPxXHtt9S00Uq/054P4NnM",
   "provenance": []
  },
  "kernelspec": {
   "display_name": "Python 3 (ipykernel)",
   "language": "python",
   "name": "python3"
  },
  "language_info": {
   "codemirror_mode": {
    "name": "ipython",
    "version": 3
   },
   "file_extension": ".py",
   "mimetype": "text/x-python",
   "name": "python",
   "nbconvert_exporter": "python",
   "pygments_lexer": "ipython3",
   "version": "3.9.7"
  }
 },
 "nbformat": 4,
 "nbformat_minor": 1
}
